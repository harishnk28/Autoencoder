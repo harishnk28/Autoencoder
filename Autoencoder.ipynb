{
  "nbformat": 4,
  "nbformat_minor": 0,
  "metadata": {
    "colab": {
      "name": "Untitled56.ipynb",
      "provenance": [],
      "authorship_tag": "ABX9TyPkBbbdcyDIUwKgYii+1Ri0",
      "include_colab_link": true
    },
    "kernelspec": {
      "name": "python3",
      "display_name": "Python 3"
    },
    "language_info": {
      "name": "python"
    },
    "accelerator": "GPU"
  },
  "cells": [
    {
      "cell_type": "markdown",
      "metadata": {
        "id": "view-in-github",
        "colab_type": "text"
      },
      "source": [
        "<a href=\"https://colab.research.google.com/github/harishnk28/Autoencoder/blob/main/Autoencoder.ipynb\" target=\"_parent\"><img src=\"https://colab.research.google.com/assets/colab-badge.svg\" alt=\"Open In Colab\"/></a>"
      ]
    },
    {
      "cell_type": "markdown",
      "metadata": {
        "id": "QIiWK0ggd4ab"
      },
      "source": [
        "# Simple Autoencoder"
      ]
    },
    {
      "cell_type": "code",
      "metadata": {
        "id": "xKSZDm_xdx8L"
      },
      "source": [
        "import keras\n",
        "from keras import layers\n",
        "\n",
        "# This is the size of our encoded representations\n",
        "encoding_dim = 32  # 32 floats -> compression of factor 24.5, assuming the input is 784 floats\n",
        "\n",
        "# This is our input image\n",
        "input_img = keras.Input(shape=(784,))\n",
        "# \"encoded\" is the encoded representation of the input\n",
        "encoded = layers.Dense(encoding_dim, activation='relu')(input_img)\n",
        "# \"decoded\" is the lossy reconstruction of the input\n",
        "decoded = layers.Dense(784, activation='sigmoid')(encoded)\n",
        "\n",
        "# This model maps an input to its reconstruction\n",
        "autoencoder = keras.Model(input_img, decoded)"
      ],
      "execution_count": 1,
      "outputs": []
    },
    {
      "cell_type": "code",
      "metadata": {
        "id": "WOg_Ai5Md0ms"
      },
      "source": [
        "# This model maps an input to its encoded representation\n",
        "encoder = keras.Model(input_img, encoded)"
      ],
      "execution_count": 2,
      "outputs": []
    },
    {
      "cell_type": "code",
      "metadata": {
        "id": "gUZ8I4d_eADr"
      },
      "source": [
        "# This is our encoded (32-dimensional) input\n",
        "encoded_input = keras.Input(shape=(encoding_dim,))\n",
        "# Retrieve the last layer of the autoencoder model\n",
        "decoder_layer = autoencoder.layers[-1]\n",
        "# Create the decoder model\n",
        "decoder = keras.Model(encoded_input, decoder_layer(encoded_input))"
      ],
      "execution_count": 3,
      "outputs": []
    },
    {
      "cell_type": "code",
      "metadata": {
        "id": "_mFNHThTeCxp"
      },
      "source": [
        "autoencoder.compile(optimizer='adam', loss='binary_crossentropy')"
      ],
      "execution_count": 4,
      "outputs": []
    },
    {
      "cell_type": "code",
      "metadata": {
        "colab": {
          "base_uri": "https://localhost:8080/"
        },
        "id": "Ni0n2k2eeE7p",
        "outputId": "b6d3d9f8-3c1f-4bfd-e7dd-a42158d78946"
      },
      "source": [
        "from keras.datasets import mnist\n",
        "import numpy as np\n",
        "(x_train, _), (x_test, _) = mnist.load_data()"
      ],
      "execution_count": 5,
      "outputs": [
        {
          "output_type": "stream",
          "text": [
            "Downloading data from https://storage.googleapis.com/tensorflow/tf-keras-datasets/mnist.npz\n",
            "11493376/11490434 [==============================] - 0s 0us/step\n"
          ],
          "name": "stdout"
        }
      ]
    },
    {
      "cell_type": "code",
      "metadata": {
        "colab": {
          "base_uri": "https://localhost:8080/"
        },
        "id": "54OlJoqgeIUz",
        "outputId": "4a719c89-7abe-4963-d9e6-438afca6342d"
      },
      "source": [
        "x_train = x_train.astype('float32') / 255.\n",
        "x_test = x_test.astype('float32') / 255.\n",
        "x_train = x_train.reshape((len(x_train), np.prod(x_train.shape[1:])))\n",
        "x_test = x_test.reshape((len(x_test), np.prod(x_test.shape[1:])))\n",
        "print(x_train.shape)\n",
        "print(x_test.shape)"
      ],
      "execution_count": 6,
      "outputs": [
        {
          "output_type": "stream",
          "text": [
            "(60000, 784)\n",
            "(10000, 784)\n"
          ],
          "name": "stdout"
        }
      ]
    },
    {
      "cell_type": "code",
      "metadata": {
        "colab": {
          "base_uri": "https://localhost:8080/"
        },
        "id": "K5r9abZ6eK2D",
        "outputId": "95d46f46-7d5d-4cab-930f-56c8708c4df6"
      },
      "source": [
        "autoencoder.fit(x_train, x_train,\n",
        "                epochs=50,\n",
        "                batch_size=256,\n",
        "                shuffle=True,\n",
        "                validation_data=(x_test, x_test))"
      ],
      "execution_count": 7,
      "outputs": [
        {
          "output_type": "stream",
          "text": [
            "Epoch 1/50\n",
            "235/235 [==============================] - 4s 6ms/step - loss: 0.3876 - val_loss: 0.1895\n",
            "Epoch 2/50\n",
            "235/235 [==============================] - 1s 4ms/step - loss: 0.1787 - val_loss: 0.1531\n",
            "Epoch 3/50\n",
            "235/235 [==============================] - 1s 4ms/step - loss: 0.1492 - val_loss: 0.1348\n",
            "Epoch 4/50\n",
            "235/235 [==============================] - 1s 4ms/step - loss: 0.1324 - val_loss: 0.1227\n",
            "Epoch 5/50\n",
            "235/235 [==============================] - 1s 4ms/step - loss: 0.1212 - val_loss: 0.1138\n",
            "Epoch 6/50\n",
            "235/235 [==============================] - 1s 5ms/step - loss: 0.1130 - val_loss: 0.1077\n",
            "Epoch 7/50\n",
            "235/235 [==============================] - 1s 4ms/step - loss: 0.1078 - val_loss: 0.1033\n",
            "Epoch 8/50\n",
            "235/235 [==============================] - 1s 4ms/step - loss: 0.1034 - val_loss: 0.1000\n",
            "Epoch 9/50\n",
            "235/235 [==============================] - 1s 4ms/step - loss: 0.1006 - val_loss: 0.0974\n",
            "Epoch 10/50\n",
            "235/235 [==============================] - 1s 4ms/step - loss: 0.0982 - val_loss: 0.0957\n",
            "Epoch 11/50\n",
            "235/235 [==============================] - 1s 4ms/step - loss: 0.0965 - val_loss: 0.0946\n",
            "Epoch 12/50\n",
            "235/235 [==============================] - 1s 4ms/step - loss: 0.0958 - val_loss: 0.0938\n",
            "Epoch 13/50\n",
            "235/235 [==============================] - 1s 4ms/step - loss: 0.0950 - val_loss: 0.0934\n",
            "Epoch 14/50\n",
            "235/235 [==============================] - 1s 4ms/step - loss: 0.0944 - val_loss: 0.0930\n",
            "Epoch 15/50\n",
            "235/235 [==============================] - 1s 4ms/step - loss: 0.0941 - val_loss: 0.0928\n",
            "Epoch 16/50\n",
            "235/235 [==============================] - 1s 4ms/step - loss: 0.0938 - val_loss: 0.0925\n",
            "Epoch 17/50\n",
            "235/235 [==============================] - 1s 4ms/step - loss: 0.0938 - val_loss: 0.0924\n",
            "Epoch 18/50\n",
            "235/235 [==============================] - 1s 4ms/step - loss: 0.0938 - val_loss: 0.0923\n",
            "Epoch 19/50\n",
            "235/235 [==============================] - 1s 4ms/step - loss: 0.0936 - val_loss: 0.0922\n",
            "Epoch 20/50\n",
            "235/235 [==============================] - 1s 4ms/step - loss: 0.0933 - val_loss: 0.0922\n",
            "Epoch 21/50\n",
            "235/235 [==============================] - 1s 4ms/step - loss: 0.0930 - val_loss: 0.0920\n",
            "Epoch 22/50\n",
            "235/235 [==============================] - 1s 4ms/step - loss: 0.0933 - val_loss: 0.0921\n",
            "Epoch 23/50\n",
            "235/235 [==============================] - 1s 4ms/step - loss: 0.0933 - val_loss: 0.0919\n",
            "Epoch 24/50\n",
            "235/235 [==============================] - 1s 4ms/step - loss: 0.0933 - val_loss: 0.0919\n",
            "Epoch 25/50\n",
            "235/235 [==============================] - 1s 4ms/step - loss: 0.0932 - val_loss: 0.0919\n",
            "Epoch 26/50\n",
            "235/235 [==============================] - 1s 4ms/step - loss: 0.0929 - val_loss: 0.0918\n",
            "Epoch 27/50\n",
            "235/235 [==============================] - 1s 4ms/step - loss: 0.0929 - val_loss: 0.0918\n",
            "Epoch 28/50\n",
            "235/235 [==============================] - 1s 4ms/step - loss: 0.0930 - val_loss: 0.0918\n",
            "Epoch 29/50\n",
            "235/235 [==============================] - 1s 4ms/step - loss: 0.0930 - val_loss: 0.0918\n",
            "Epoch 30/50\n",
            "235/235 [==============================] - 1s 4ms/step - loss: 0.0932 - val_loss: 0.0918\n",
            "Epoch 31/50\n",
            "235/235 [==============================] - 1s 4ms/step - loss: 0.0929 - val_loss: 0.0918\n",
            "Epoch 32/50\n",
            "235/235 [==============================] - 1s 4ms/step - loss: 0.0929 - val_loss: 0.0917\n",
            "Epoch 33/50\n",
            "235/235 [==============================] - 1s 4ms/step - loss: 0.0927 - val_loss: 0.0918\n",
            "Epoch 34/50\n",
            "235/235 [==============================] - 1s 4ms/step - loss: 0.0928 - val_loss: 0.0917\n",
            "Epoch 35/50\n",
            "235/235 [==============================] - 1s 4ms/step - loss: 0.0927 - val_loss: 0.0917\n",
            "Epoch 36/50\n",
            "235/235 [==============================] - 1s 4ms/step - loss: 0.0930 - val_loss: 0.0917\n",
            "Epoch 37/50\n",
            "235/235 [==============================] - 1s 4ms/step - loss: 0.0926 - val_loss: 0.0916\n",
            "Epoch 38/50\n",
            "235/235 [==============================] - 1s 4ms/step - loss: 0.0926 - val_loss: 0.0917\n",
            "Epoch 39/50\n",
            "235/235 [==============================] - 1s 4ms/step - loss: 0.0927 - val_loss: 0.0916\n",
            "Epoch 40/50\n",
            "235/235 [==============================] - 1s 4ms/step - loss: 0.0927 - val_loss: 0.0916\n",
            "Epoch 41/50\n",
            "235/235 [==============================] - 1s 4ms/step - loss: 0.0928 - val_loss: 0.0916\n",
            "Epoch 42/50\n",
            "235/235 [==============================] - 1s 4ms/step - loss: 0.0926 - val_loss: 0.0916\n",
            "Epoch 43/50\n",
            "235/235 [==============================] - 1s 4ms/step - loss: 0.0926 - val_loss: 0.0916\n",
            "Epoch 44/50\n",
            "235/235 [==============================] - 1s 4ms/step - loss: 0.0925 - val_loss: 0.0915\n",
            "Epoch 45/50\n",
            "235/235 [==============================] - 1s 4ms/step - loss: 0.0925 - val_loss: 0.0915\n",
            "Epoch 46/50\n",
            "235/235 [==============================] - 1s 4ms/step - loss: 0.0926 - val_loss: 0.0916\n",
            "Epoch 47/50\n",
            "235/235 [==============================] - 1s 4ms/step - loss: 0.0924 - val_loss: 0.0915\n",
            "Epoch 48/50\n",
            "235/235 [==============================] - 1s 4ms/step - loss: 0.0926 - val_loss: 0.0915\n",
            "Epoch 49/50\n",
            "235/235 [==============================] - 1s 4ms/step - loss: 0.0927 - val_loss: 0.0915\n",
            "Epoch 50/50\n",
            "235/235 [==============================] - 1s 4ms/step - loss: 0.0926 - val_loss: 0.0916\n"
          ],
          "name": "stdout"
        },
        {
          "output_type": "execute_result",
          "data": {
            "text/plain": [
              "<tensorflow.python.keras.callbacks.History at 0x7f82f9ed5890>"
            ]
          },
          "metadata": {
            "tags": []
          },
          "execution_count": 7
        }
      ]
    },
    {
      "cell_type": "code",
      "metadata": {
        "id": "jKEpO75ueNdi"
      },
      "source": [
        "# Encode and decode some digits\n",
        "# Note that we take them from the *test* set\n",
        "encoded_imgs = encoder.predict(x_test)\n",
        "decoded_imgs = decoder.predict(encoded_imgs)"
      ],
      "execution_count": 8,
      "outputs": []
    },
    {
      "cell_type": "code",
      "metadata": {
        "colab": {
          "base_uri": "https://localhost:8080/",
          "height": 248
        },
        "id": "VTyV2fN_eQXE",
        "outputId": "463bb9bc-d1ca-4834-cb3b-4cd2156b0257"
      },
      "source": [
        "# Use Matplotlib (don't ask)\n",
        "import matplotlib.pyplot as plt\n",
        "\n",
        "n = 10  # How many digits we will display\n",
        "plt.figure(figsize=(20, 4))\n",
        "for i in range(n):\n",
        "    # Display original\n",
        "    ax = plt.subplot(2, n, i + 1)\n",
        "    plt.imshow(x_test[i].reshape(28, 28))\n",
        "    plt.gray()\n",
        "    ax.get_xaxis().set_visible(False)\n",
        "    ax.get_yaxis().set_visible(False)\n",
        "\n",
        "    # Display reconstruction\n",
        "    ax = plt.subplot(2, n, i + 1 + n)\n",
        "    plt.imshow(decoded_imgs[i].reshape(28, 28))\n",
        "    plt.gray()\n",
        "    ax.get_xaxis().set_visible(False)\n",
        "    ax.get_yaxis().set_visible(False)\n",
        "plt.show()"
      ],
      "execution_count": 9,
      "outputs": [
        {
          "output_type": "display_data",
          "data": {
            "image/png": "[encoded data removed]",
            "text/plain": [
              "<Figure size 1440x288 with 20 Axes>"
            ]
          },
          "metadata": {
            "tags": [],
            "needs_background": "light"
          }
        }
      ]
    },
    {
      "cell_type": "markdown",
      "metadata": {
        "id": "CXAZTJPmeaIy"
      },
      "source": [
        "# Adding a sparsity constraint on the encoded representations"
      ]
    },
    {
      "cell_type": "code",
      "metadata": {
        "id": "dEJQYa0ceVJv"
      },
      "source": [
        "from keras import regularizers\n",
        "\n",
        "encoding_dim = 32\n",
        "\n",
        "input_img = keras.Input(shape=(784,))\n",
        "# Add a Dense layer with a L1 activity regularizer\n",
        "encoded = layers.Dense(encoding_dim, activation='relu',\n",
        "                activity_regularizer=regularizers.l1(10e-5))(input_img)\n",
        "decoded = layers.Dense(784, activation='sigmoid')(encoded)\n",
        "\n",
        "autoencoder = keras.Model(input_img, decoded)"
      ],
      "execution_count": 10,
      "outputs": []
    },
    {
      "cell_type": "markdown",
      "metadata": {
        "id": "C0pHuVPheouH"
      },
      "source": [
        "# Deep autoencoder"
      ]
    },
    {
      "cell_type": "code",
      "metadata": {
        "id": "48q3ntJpesjg"
      },
      "source": [
        "input_img = keras.Input(shape=(784,))\n",
        "encoded = layers.Dense(128, activation='relu')(input_img)\n",
        "encoded = layers.Dense(64, activation='relu')(encoded)\n",
        "encoded = layers.Dense(32, activation='relu')(encoded)\n",
        "\n",
        "decoded = layers.Dense(64, activation='relu')(encoded)\n",
        "decoded = layers.Dense(128, activation='relu')(decoded)\n",
        "decoded = layers.Dense(784, activation='sigmoid')(decoded)"
      ],
      "execution_count": 11,
      "outputs": []
    },
    {
      "cell_type": "code",
      "metadata": {
        "colab": {
          "base_uri": "https://localhost:8080/"
        },
        "id": "1m_bI0jTevOQ",
        "outputId": "a742a1e2-8a59-4d55-996f-330a5681d177"
      },
      "source": [
        "autoencoder = keras.Model(input_img, decoded)\n",
        "autoencoder.compile(optimizer='adam', loss='binary_crossentropy')\n",
        "\n",
        "autoencoder.fit(x_train, x_train,\n",
        "                epochs=100,\n",
        "                batch_size=256,\n",
        "                shuffle=True,\n",
        "                validation_data=(x_test, x_test))"
      ],
      "execution_count": 12,
      "outputs": [
        {
          "output_type": "stream",
          "text": [
            "Epoch 1/100\n",
            "235/235 [==============================] - 2s 6ms/step - loss: 0.3365 - val_loss: 0.1589\n",
            "Epoch 2/100\n",
            "235/235 [==============================] - 1s 5ms/step - loss: 0.1509 - val_loss: 0.1335\n",
            "Epoch 3/100\n",
            "235/235 [==============================] - 1s 5ms/step - loss: 0.1307 - val_loss: 0.1221\n",
            "Epoch 4/100\n",
            "235/235 [==============================] - 1s 5ms/step - loss: 0.1220 - val_loss: 0.1159\n",
            "Epoch 5/100\n",
            "235/235 [==============================] - 1s 5ms/step - loss: 0.1158 - val_loss: 0.1106\n",
            "Epoch 6/100\n",
            "235/235 [==============================] - 1s 5ms/step - loss: 0.1112 - val_loss: 0.1071\n",
            "Epoch 7/100\n",
            "235/235 [==============================] - 1s 5ms/step - loss: 0.1076 - val_loss: 0.1046\n",
            "Epoch 8/100\n",
            "235/235 [==============================] - 1s 5ms/step - loss: 0.1050 - val_loss: 0.1024\n",
            "Epoch 9/100\n",
            "235/235 [==============================] - 1s 5ms/step - loss: 0.1035 - val_loss: 0.1010\n",
            "Epoch 10/100\n",
            "235/235 [==============================] - 1s 5ms/step - loss: 0.1016 - val_loss: 0.0994\n",
            "Epoch 11/100\n",
            "235/235 [==============================] - 1s 5ms/step - loss: 0.1000 - val_loss: 0.0984\n",
            "Epoch 12/100\n",
            "235/235 [==============================] - 1s 5ms/step - loss: 0.0991 - val_loss: 0.0971\n",
            "Epoch 13/100\n",
            "235/235 [==============================] - 1s 5ms/step - loss: 0.0977 - val_loss: 0.0962\n",
            "Epoch 14/100\n",
            "235/235 [==============================] - 1s 5ms/step - loss: 0.0967 - val_loss: 0.0953\n",
            "Epoch 15/100\n",
            "235/235 [==============================] - 1s 5ms/step - loss: 0.0956 - val_loss: 0.0943\n",
            "Epoch 16/100\n",
            "235/235 [==============================] - 1s 5ms/step - loss: 0.0950 - val_loss: 0.0939\n",
            "Epoch 17/100\n",
            "235/235 [==============================] - 1s 5ms/step - loss: 0.0942 - val_loss: 0.0930\n",
            "Epoch 18/100\n",
            "235/235 [==============================] - 1s 5ms/step - loss: 0.0933 - val_loss: 0.0920\n",
            "Epoch 19/100\n",
            "235/235 [==============================] - 1s 5ms/step - loss: 0.0927 - val_loss: 0.0911\n",
            "Epoch 20/100\n",
            "235/235 [==============================] - 1s 5ms/step - loss: 0.0918 - val_loss: 0.0907\n",
            "Epoch 21/100\n",
            "235/235 [==============================] - 1s 5ms/step - loss: 0.0914 - val_loss: 0.0904\n",
            "Epoch 22/100\n",
            "235/235 [==============================] - 1s 5ms/step - loss: 0.0907 - val_loss: 0.0896\n",
            "Epoch 23/100\n",
            "235/235 [==============================] - 1s 5ms/step - loss: 0.0903 - val_loss: 0.0891\n",
            "Epoch 24/100\n",
            "235/235 [==============================] - 1s 5ms/step - loss: 0.0900 - val_loss: 0.0888\n",
            "Epoch 25/100\n",
            "235/235 [==============================] - 1s 5ms/step - loss: 0.0893 - val_loss: 0.0886\n",
            "Epoch 26/100\n",
            "235/235 [==============================] - 1s 5ms/step - loss: 0.0887 - val_loss: 0.0879\n",
            "Epoch 27/100\n",
            "235/235 [==============================] - 1s 5ms/step - loss: 0.0885 - val_loss: 0.0878\n",
            "Epoch 28/100\n",
            "235/235 [==============================] - 1s 5ms/step - loss: 0.0882 - val_loss: 0.0876\n",
            "Epoch 29/100\n",
            "235/235 [==============================] - 1s 5ms/step - loss: 0.0880 - val_loss: 0.0870\n",
            "Epoch 30/100\n",
            "235/235 [==============================] - 1s 5ms/step - loss: 0.0875 - val_loss: 0.0871\n",
            "Epoch 31/100\n",
            "235/235 [==============================] - 1s 5ms/step - loss: 0.0873 - val_loss: 0.0867\n",
            "Epoch 32/100\n",
            "235/235 [==============================] - 1s 5ms/step - loss: 0.0874 - val_loss: 0.0863\n",
            "Epoch 33/100\n",
            "235/235 [==============================] - 1s 5ms/step - loss: 0.0867 - val_loss: 0.0862\n",
            "Epoch 34/100\n",
            "235/235 [==============================] - 1s 5ms/step - loss: 0.0867 - val_loss: 0.0859\n",
            "Epoch 35/100\n",
            "235/235 [==============================] - 1s 5ms/step - loss: 0.0864 - val_loss: 0.0858\n",
            "Epoch 36/100\n",
            "235/235 [==============================] - 1s 5ms/step - loss: 0.0863 - val_loss: 0.0859\n",
            "Epoch 37/100\n",
            "235/235 [==============================] - 1s 5ms/step - loss: 0.0859 - val_loss: 0.0855\n",
            "Epoch 38/100\n",
            "235/235 [==============================] - 1s 5ms/step - loss: 0.0861 - val_loss: 0.0854\n",
            "Epoch 39/100\n",
            "235/235 [==============================] - 1s 5ms/step - loss: 0.0860 - val_loss: 0.0853\n",
            "Epoch 40/100\n",
            "235/235 [==============================] - 1s 5ms/step - loss: 0.0857 - val_loss: 0.0854\n",
            "Epoch 41/100\n",
            "235/235 [==============================] - 1s 5ms/step - loss: 0.0857 - val_loss: 0.0851\n",
            "Epoch 42/100\n",
            "235/235 [==============================] - 1s 5ms/step - loss: 0.0857 - val_loss: 0.0850\n",
            "Epoch 43/100\n",
            "235/235 [==============================] - 1s 5ms/step - loss: 0.0855 - val_loss: 0.0849\n",
            "Epoch 44/100\n",
            "235/235 [==============================] - 1s 5ms/step - loss: 0.0851 - val_loss: 0.0847\n",
            "Epoch 45/100\n",
            "235/235 [==============================] - 1s 5ms/step - loss: 0.0853 - val_loss: 0.0846\n",
            "Epoch 46/100\n",
            "235/235 [==============================] - 1s 5ms/step - loss: 0.0851 - val_loss: 0.0847\n",
            "Epoch 47/100\n",
            "235/235 [==============================] - 1s 5ms/step - loss: 0.0848 - val_loss: 0.0843\n",
            "Epoch 48/100\n",
            "235/235 [==============================] - 1s 5ms/step - loss: 0.0847 - val_loss: 0.0845\n",
            "Epoch 49/100\n",
            "235/235 [==============================] - 1s 5ms/step - loss: 0.0849 - val_loss: 0.0844\n",
            "Epoch 50/100\n",
            "235/235 [==============================] - 1s 5ms/step - loss: 0.0846 - val_loss: 0.0840\n",
            "Epoch 51/100\n",
            "235/235 [==============================] - 1s 5ms/step - loss: 0.0845 - val_loss: 0.0843\n",
            "Epoch 52/100\n",
            "235/235 [==============================] - 1s 5ms/step - loss: 0.0845 - val_loss: 0.0840\n",
            "Epoch 53/100\n",
            "235/235 [==============================] - 1s 5ms/step - loss: 0.0841 - val_loss: 0.0840\n",
            "Epoch 54/100\n",
            "235/235 [==============================] - 1s 5ms/step - loss: 0.0843 - val_loss: 0.0837\n",
            "Epoch 55/100\n",
            "235/235 [==============================] - 1s 5ms/step - loss: 0.0842 - val_loss: 0.0840\n",
            "Epoch 56/100\n",
            "235/235 [==============================] - 1s 5ms/step - loss: 0.0840 - val_loss: 0.0838\n",
            "Epoch 57/100\n",
            "235/235 [==============================] - 1s 5ms/step - loss: 0.0842 - val_loss: 0.0836\n",
            "Epoch 58/100\n",
            "235/235 [==============================] - 1s 5ms/step - loss: 0.0839 - val_loss: 0.0837\n",
            "Epoch 59/100\n",
            "235/235 [==============================] - 1s 5ms/step - loss: 0.0838 - val_loss: 0.0835\n",
            "Epoch 60/100\n",
            "235/235 [==============================] - 1s 5ms/step - loss: 0.0838 - val_loss: 0.0834\n",
            "Epoch 61/100\n",
            "235/235 [==============================] - 1s 5ms/step - loss: 0.0835 - val_loss: 0.0833\n",
            "Epoch 62/100\n",
            "235/235 [==============================] - 1s 6ms/step - loss: 0.0838 - val_loss: 0.0836\n",
            "Epoch 63/100\n",
            "235/235 [==============================] - 1s 5ms/step - loss: 0.0835 - val_loss: 0.0835\n",
            "Epoch 64/100\n",
            "235/235 [==============================] - 1s 5ms/step - loss: 0.0836 - val_loss: 0.0834\n",
            "Epoch 65/100\n",
            "235/235 [==============================] - 1s 5ms/step - loss: 0.0834 - val_loss: 0.0831\n",
            "Epoch 66/100\n",
            "235/235 [==============================] - 1s 5ms/step - loss: 0.0835 - val_loss: 0.0832\n",
            "Epoch 67/100\n",
            "235/235 [==============================] - 1s 5ms/step - loss: 0.0833 - val_loss: 0.0834\n",
            "Epoch 68/100\n",
            "235/235 [==============================] - 1s 5ms/step - loss: 0.0833 - val_loss: 0.0830\n",
            "Epoch 69/100\n",
            "235/235 [==============================] - 1s 5ms/step - loss: 0.0833 - val_loss: 0.0832\n",
            "Epoch 70/100\n",
            "235/235 [==============================] - 1s 5ms/step - loss: 0.0832 - val_loss: 0.0829\n",
            "Epoch 71/100\n",
            "235/235 [==============================] - 1s 5ms/step - loss: 0.0833 - val_loss: 0.0833\n",
            "Epoch 72/100\n",
            "235/235 [==============================] - 1s 5ms/step - loss: 0.0832 - val_loss: 0.0829\n",
            "Epoch 73/100\n",
            "235/235 [==============================] - 1s 5ms/step - loss: 0.0832 - val_loss: 0.0830\n",
            "Epoch 74/100\n",
            "235/235 [==============================] - 1s 5ms/step - loss: 0.0830 - val_loss: 0.0832\n",
            "Epoch 75/100\n",
            "235/235 [==============================] - 1s 5ms/step - loss: 0.0830 - val_loss: 0.0829\n",
            "Epoch 76/100\n",
            "235/235 [==============================] - 1s 5ms/step - loss: 0.0829 - val_loss: 0.0830\n",
            "Epoch 77/100\n",
            "235/235 [==============================] - 1s 5ms/step - loss: 0.0828 - val_loss: 0.0830\n",
            "Epoch 78/100\n",
            "235/235 [==============================] - 1s 5ms/step - loss: 0.0829 - val_loss: 0.0827\n",
            "Epoch 79/100\n",
            "235/235 [==============================] - 1s 5ms/step - loss: 0.0828 - val_loss: 0.0826\n",
            "Epoch 80/100\n",
            "235/235 [==============================] - 1s 5ms/step - loss: 0.0827 - val_loss: 0.0826\n",
            "Epoch 81/100\n",
            "235/235 [==============================] - 1s 5ms/step - loss: 0.0828 - val_loss: 0.0828\n",
            "Epoch 82/100\n",
            "235/235 [==============================] - 1s 5ms/step - loss: 0.0827 - val_loss: 0.0827\n",
            "Epoch 83/100\n",
            "235/235 [==============================] - 1s 5ms/step - loss: 0.0827 - val_loss: 0.0826\n",
            "Epoch 84/100\n",
            "235/235 [==============================] - 1s 5ms/step - loss: 0.0827 - val_loss: 0.0824\n",
            "Epoch 85/100\n",
            "235/235 [==============================] - 1s 5ms/step - loss: 0.0826 - val_loss: 0.0825\n",
            "Epoch 86/100\n",
            "235/235 [==============================] - 1s 5ms/step - loss: 0.0826 - val_loss: 0.0824\n",
            "Epoch 87/100\n",
            "235/235 [==============================] - 1s 5ms/step - loss: 0.0825 - val_loss: 0.0823\n",
            "Epoch 88/100\n",
            "235/235 [==============================] - 1s 5ms/step - loss: 0.0825 - val_loss: 0.0826\n",
            "Epoch 89/100\n",
            "235/235 [==============================] - 1s 5ms/step - loss: 0.0825 - val_loss: 0.0823\n",
            "Epoch 90/100\n",
            "235/235 [==============================] - 1s 5ms/step - loss: 0.0826 - val_loss: 0.0822\n",
            "Epoch 91/100\n",
            "235/235 [==============================] - 1s 5ms/step - loss: 0.0823 - val_loss: 0.0822\n",
            "Epoch 92/100\n",
            "235/235 [==============================] - 1s 5ms/step - loss: 0.0824 - val_loss: 0.0825\n",
            "Epoch 93/100\n",
            "235/235 [==============================] - 1s 5ms/step - loss: 0.0825 - val_loss: 0.0825\n",
            "Epoch 94/100\n",
            "235/235 [==============================] - 1s 5ms/step - loss: 0.0822 - val_loss: 0.0821\n",
            "Epoch 95/100\n",
            "235/235 [==============================] - 1s 5ms/step - loss: 0.0822 - val_loss: 0.0822\n",
            "Epoch 96/100\n",
            "235/235 [==============================] - 1s 5ms/step - loss: 0.0822 - val_loss: 0.0822\n",
            "Epoch 97/100\n",
            "235/235 [==============================] - 1s 5ms/step - loss: 0.0822 - val_loss: 0.0822\n",
            "Epoch 98/100\n",
            "235/235 [==============================] - 1s 5ms/step - loss: 0.0822 - val_loss: 0.0822\n",
            "Epoch 99/100\n",
            "235/235 [==============================] - 1s 5ms/step - loss: 0.0822 - val_loss: 0.0821\n",
            "Epoch 100/100\n",
            "235/235 [==============================] - 1s 5ms/step - loss: 0.0822 - val_loss: 0.0821\n"
          ],
          "name": "stdout"
        },
        {
          "output_type": "execute_result",
          "data": {
            "text/plain": [
              "<tensorflow.python.keras.callbacks.History at 0x7f82f58af0d0>"
            ]
          },
          "metadata": {
            "tags": []
          },
          "execution_count": 12
        }
      ]
    },
    {
      "cell_type": "code",
      "metadata": {
        "id": "s9V3m4O2fbRT"
      },
      "source": [
        "# Encode and decode some digits\n",
        "# Note that we take them from the *test* set\n",
        "encoded_imgs = encoder.predict(x_test)\n",
        "decoded_imgs = decoder.predict(encoded_imgs)"
      ],
      "execution_count": 13,
      "outputs": []
    },
    {
      "cell_type": "code",
      "metadata": {
        "colab": {
          "base_uri": "https://localhost:8080/",
          "height": 248
        },
        "id": "Bm4ZKchufmBc",
        "outputId": "9294aceb-88e9-4106-d62d-4922f6d6fb3f"
      },
      "source": [
        "# Use Matplotlib (don't ask)\n",
        "import matplotlib.pyplot as plt\n",
        "\n",
        "n = 10  # How many digits we will display\n",
        "plt.figure(figsize=(20, 4))\n",
        "for i in range(n):\n",
        "    # Display original\n",
        "    ax = plt.subplot(2, n, i + 1)\n",
        "    plt.imshow(x_test[i].reshape(28, 28))\n",
        "    plt.gray()\n",
        "    ax.get_xaxis().set_visible(False)\n",
        "    ax.get_yaxis().set_visible(False)\n",
        "\n",
        "    # Display reconstruction\n",
        "    ax = plt.subplot(2, n, i + 1 + n)\n",
        "    plt.imshow(decoded_imgs[i].reshape(28, 28))\n",
        "    plt.gray()\n",
        "    ax.get_xaxis().set_visible(False)\n",
        "    ax.get_yaxis().set_visible(False)\n",
        "plt.show()"
      ],
      "execution_count": 14,
      "outputs": [
        {
          "output_type": "display_data",
          "data": {
            "image/png": "[encoded data removed]",
            "text/plain": [
              "<Figure size 1440x288 with 20 Axes>"
            ]
          },
          "metadata": {
            "tags": [],
            "needs_background": "light"
          }
        }
      ]
    },
    {
      "cell_type": "markdown",
      "metadata": {
        "id": "p80N8MdFg9RN"
      },
      "source": [
        "# Application to image denoising"
      ]
    },
    {
      "cell_type": "code",
      "metadata": {
        "id": "2-02uWang5BA"
      },
      "source": [
        "from keras.datasets import mnist\n",
        "import numpy as np\n",
        "\n",
        "(x_train, _), (x_test, _) = mnist.load_data()\n",
        "\n",
        "x_train = x_train.astype('float32') / 255.\n",
        "x_test = x_test.astype('float32') / 255.\n",
        "x_train = np.reshape(x_train, (len(x_train), 28, 28, 1))\n",
        "x_test = np.reshape(x_test, (len(x_test), 28, 28, 1))\n",
        "\n",
        "noise_factor = 0.5\n",
        "x_train_noisy = x_train + noise_factor * np.random.normal(loc=0.0, scale=1.0, size=x_train.shape) \n",
        "x_test_noisy = x_test + noise_factor * np.random.normal(loc=0.0, scale=1.0, size=x_test.shape) \n",
        "\n",
        "x_train_noisy = np.clip(x_train_noisy, 0., 1.)\n",
        "x_test_noisy = np.clip(x_test_noisy, 0., 1.)"
      ],
      "execution_count": 15,
      "outputs": []
    },
    {
      "cell_type": "code",
      "metadata": {
        "colab": {
          "base_uri": "https://localhost:8080/",
          "height": 129
        },
        "id": "h6UKOyhQhC7X",
        "outputId": "1a715a40-ff8d-4f85-bde4-af0a9a578c04"
      },
      "source": [
        "n = 10\n",
        "plt.figure(figsize=(20, 2))\n",
        "for i in range(1, n + 1):\n",
        "    ax = plt.subplot(1, n, i)\n",
        "    plt.imshow(x_test_noisy[i].reshape(28, 28))\n",
        "    plt.gray()\n",
        "    ax.get_xaxis().set_visible(False)\n",
        "    ax.get_yaxis().set_visible(False)\n",
        "plt.show()"
      ],
      "execution_count": 16,
      "outputs": [
        {
          "output_type": "display_data",
          "data": {
            "image/png": "[encoded data removed]",
            "text/plain": [
              "<Figure size 1440x144 with 10 Axes>"
            ]
          },
          "metadata": {
            "tags": [],
            "needs_background": "light"
          }
        }
      ]
    },
    {
      "cell_type": "code",
      "metadata": {
        "id": "zya9Q6hghFQb"
      },
      "source": [
        "input_img = keras.Input(shape=(28, 28, 1))\n",
        "\n",
        "x = layers.Conv2D(32, (3, 3), activation='relu', padding='same')(input_img)\n",
        "x = layers.MaxPooling2D((2, 2), padding='same')(x)\n",
        "x = layers.Conv2D(32, (3, 3), activation='relu', padding='same')(x)\n",
        "encoded = layers.MaxPooling2D((2, 2), padding='same')(x)\n",
        "\n",
        "# At this point the representation is (7, 7, 32)\n",
        "\n",
        "x = layers.Conv2D(32, (3, 3), activation='relu', padding='same')(encoded)\n",
        "x = layers.UpSampling2D((2, 2))(x)\n",
        "x = layers.Conv2D(32, (3, 3), activation='relu', padding='same')(x)\n",
        "x = layers.UpSampling2D((2, 2))(x)\n",
        "decoded = layers.Conv2D(1, (3, 3), activation='sigmoid', padding='same')(x)\n",
        "\n",
        "autoencoder = keras.Model(input_img, decoded)\n",
        "autoencoder.compile(optimizer='adam', loss='binary_crossentropy')"
      ],
      "execution_count": 17,
      "outputs": []
    },
    {
      "cell_type": "code",
      "metadata": {
        "colab": {
          "base_uri": "https://localhost:8080/"
        },
        "id": "GveDvC4lhIWy",
        "outputId": "f1c78cf6-ae6a-4adf-a3b6-560a3436af85"
      },
      "source": [
        "from keras.callbacks import TensorBoard\n",
        "autoencoder.fit(x_train_noisy, x_train,\n",
        "                epochs=100,\n",
        "                batch_size=128,\n",
        "                shuffle=True,\n",
        "                validation_data=(x_test_noisy, x_test),\n",
        "                callbacks=[TensorBoard(log_dir='/tmp/tb', histogram_freq=0, write_graph=False)])"
      ],
      "execution_count": 19,
      "outputs": [
        {
          "output_type": "stream",
          "text": [
            "Epoch 1/100\n",
            "469/469 [==============================] - 34s 15ms/step - loss: 0.2518 - val_loss: 0.1177\n",
            "Epoch 2/100\n",
            "469/469 [==============================] - 6s 13ms/step - loss: 0.1162 - val_loss: 0.1088\n",
            "Epoch 3/100\n",
            "469/469 [==============================] - 6s 13ms/step - loss: 0.1092 - val_loss: 0.1052\n",
            "Epoch 4/100\n",
            "469/469 [==============================] - 6s 13ms/step - loss: 0.1061 - val_loss: 0.1031\n",
            "Epoch 5/100\n",
            "469/469 [==============================] - 6s 13ms/step - loss: 0.1036 - val_loss: 0.1015\n",
            "Epoch 6/100\n",
            "469/469 [==============================] - 6s 13ms/step - loss: 0.1019 - val_loss: 0.0999\n",
            "Epoch 7/100\n",
            "469/469 [==============================] - 6s 13ms/step - loss: 0.1007 - val_loss: 0.0991\n",
            "Epoch 8/100\n",
            "469/469 [==============================] - 6s 13ms/step - loss: 0.0998 - val_loss: 0.0983\n",
            "Epoch 9/100\n",
            "469/469 [==============================] - 6s 13ms/step - loss: 0.0991 - val_loss: 0.0976\n",
            "Epoch 10/100\n",
            "469/469 [==============================] - 6s 13ms/step - loss: 0.0986 - val_loss: 0.0980\n",
            "Epoch 11/100\n",
            "469/469 [==============================] - 6s 13ms/step - loss: 0.0978 - val_loss: 0.0967\n",
            "Epoch 12/100\n",
            "469/469 [==============================] - 6s 13ms/step - loss: 0.0975 - val_loss: 0.0968\n",
            "Epoch 13/100\n",
            "469/469 [==============================] - 6s 13ms/step - loss: 0.0973 - val_loss: 0.0962\n",
            "Epoch 14/100\n",
            "469/469 [==============================] - 6s 13ms/step - loss: 0.0968 - val_loss: 0.0959\n",
            "Epoch 15/100\n",
            "469/469 [==============================] - 6s 13ms/step - loss: 0.0966 - val_loss: 0.0959\n",
            "Epoch 16/100\n",
            "469/469 [==============================] - 6s 13ms/step - loss: 0.0963 - val_loss: 0.0954\n",
            "Epoch 17/100\n",
            "469/469 [==============================] - 6s 13ms/step - loss: 0.0959 - val_loss: 0.0951\n",
            "Epoch 18/100\n",
            "469/469 [==============================] - 6s 13ms/step - loss: 0.0957 - val_loss: 0.0954\n",
            "Epoch 19/100\n",
            "469/469 [==============================] - 6s 13ms/step - loss: 0.0958 - val_loss: 0.0956\n",
            "Epoch 20/100\n",
            "469/469 [==============================] - 6s 13ms/step - loss: 0.0957 - val_loss: 0.0947\n",
            "Epoch 21/100\n",
            "469/469 [==============================] - 6s 13ms/step - loss: 0.0955 - val_loss: 0.0946\n",
            "Epoch 22/100\n",
            "469/469 [==============================] - 6s 13ms/step - loss: 0.0951 - val_loss: 0.0946\n",
            "Epoch 23/100\n",
            "469/469 [==============================] - 6s 13ms/step - loss: 0.0951 - val_loss: 0.0944\n",
            "Epoch 24/100\n",
            "469/469 [==============================] - 6s 13ms/step - loss: 0.0950 - val_loss: 0.0943\n",
            "Epoch 25/100\n",
            "469/469 [==============================] - 6s 13ms/step - loss: 0.0950 - val_loss: 0.0942\n",
            "Epoch 26/100\n",
            "469/469 [==============================] - 6s 13ms/step - loss: 0.0949 - val_loss: 0.0944\n",
            "Epoch 27/100\n",
            "469/469 [==============================] - 6s 13ms/step - loss: 0.0947 - val_loss: 0.0941\n",
            "Epoch 28/100\n",
            "469/469 [==============================] - 6s 13ms/step - loss: 0.0947 - val_loss: 0.0943\n",
            "Epoch 29/100\n",
            "469/469 [==============================] - 6s 13ms/step - loss: 0.0946 - val_loss: 0.0940\n",
            "Epoch 30/100\n",
            "469/469 [==============================] - 6s 13ms/step - loss: 0.0944 - val_loss: 0.0941\n",
            "Epoch 31/100\n",
            "469/469 [==============================] - 6s 13ms/step - loss: 0.0945 - val_loss: 0.0939\n",
            "Epoch 32/100\n",
            "469/469 [==============================] - 6s 13ms/step - loss: 0.0944 - val_loss: 0.0940\n",
            "Epoch 33/100\n",
            "469/469 [==============================] - 6s 13ms/step - loss: 0.0942 - val_loss: 0.0938\n",
            "Epoch 34/100\n",
            "469/469 [==============================] - 6s 13ms/step - loss: 0.0943 - val_loss: 0.0938\n",
            "Epoch 35/100\n",
            "469/469 [==============================] - 6s 13ms/step - loss: 0.0943 - val_loss: 0.0941\n",
            "Epoch 36/100\n",
            "469/469 [==============================] - 6s 13ms/step - loss: 0.0942 - val_loss: 0.0938\n",
            "Epoch 37/100\n",
            "469/469 [==============================] - 6s 13ms/step - loss: 0.0943 - val_loss: 0.0936\n",
            "Epoch 38/100\n",
            "469/469 [==============================] - 6s 13ms/step - loss: 0.0941 - val_loss: 0.0936\n",
            "Epoch 39/100\n",
            "469/469 [==============================] - 6s 13ms/step - loss: 0.0940 - val_loss: 0.0936\n",
            "Epoch 40/100\n",
            "469/469 [==============================] - 6s 13ms/step - loss: 0.0941 - val_loss: 0.0935\n",
            "Epoch 41/100\n",
            "469/469 [==============================] - 6s 13ms/step - loss: 0.0939 - val_loss: 0.0935\n",
            "Epoch 42/100\n",
            "469/469 [==============================] - 6s 13ms/step - loss: 0.0939 - val_loss: 0.0935\n",
            "Epoch 43/100\n",
            "469/469 [==============================] - 6s 13ms/step - loss: 0.0939 - val_loss: 0.0937\n",
            "Epoch 44/100\n",
            "469/469 [==============================] - 6s 13ms/step - loss: 0.0938 - val_loss: 0.0935\n",
            "Epoch 45/100\n",
            "469/469 [==============================] - 6s 13ms/step - loss: 0.0939 - val_loss: 0.0935\n",
            "Epoch 46/100\n",
            "469/469 [==============================] - 6s 13ms/step - loss: 0.0937 - val_loss: 0.0935\n",
            "Epoch 47/100\n",
            "469/469 [==============================] - 6s 13ms/step - loss: 0.0937 - val_loss: 0.0936\n",
            "Epoch 48/100\n",
            "469/469 [==============================] - 6s 13ms/step - loss: 0.0937 - val_loss: 0.0939\n",
            "Epoch 49/100\n",
            "469/469 [==============================] - 6s 13ms/step - loss: 0.0939 - val_loss: 0.0935\n",
            "Epoch 50/100\n",
            "469/469 [==============================] - 6s 13ms/step - loss: 0.0937 - val_loss: 0.0933\n",
            "Epoch 51/100\n",
            "469/469 [==============================] - 6s 13ms/step - loss: 0.0935 - val_loss: 0.0933\n",
            "Epoch 52/100\n",
            "469/469 [==============================] - 6s 13ms/step - loss: 0.0935 - val_loss: 0.0933\n",
            "Epoch 53/100\n",
            "469/469 [==============================] - 6s 13ms/step - loss: 0.0936 - val_loss: 0.0932\n",
            "Epoch 54/100\n",
            "469/469 [==============================] - 6s 13ms/step - loss: 0.0936 - val_loss: 0.0933\n",
            "Epoch 55/100\n",
            "469/469 [==============================] - 6s 13ms/step - loss: 0.0934 - val_loss: 0.0933\n",
            "Epoch 56/100\n",
            "469/469 [==============================] - 6s 13ms/step - loss: 0.0936 - val_loss: 0.0933\n",
            "Epoch 57/100\n",
            "469/469 [==============================] - 6s 13ms/step - loss: 0.0934 - val_loss: 0.0933\n",
            "Epoch 58/100\n",
            "469/469 [==============================] - 6s 13ms/step - loss: 0.0934 - val_loss: 0.0936\n",
            "Epoch 59/100\n",
            "469/469 [==============================] - 6s 13ms/step - loss: 0.0935 - val_loss: 0.0932\n",
            "Epoch 60/100\n",
            "469/469 [==============================] - 6s 13ms/step - loss: 0.0934 - val_loss: 0.0933\n",
            "Epoch 61/100\n",
            "469/469 [==============================] - 6s 13ms/step - loss: 0.0933 - val_loss: 0.0932\n",
            "Epoch 62/100\n",
            "469/469 [==============================] - 6s 13ms/step - loss: 0.0935 - val_loss: 0.0932\n",
            "Epoch 63/100\n",
            "469/469 [==============================] - 6s 13ms/step - loss: 0.0934 - val_loss: 0.0931\n",
            "Epoch 64/100\n",
            "469/469 [==============================] - 6s 13ms/step - loss: 0.0932 - val_loss: 0.0932\n",
            "Epoch 65/100\n",
            "469/469 [==============================] - 6s 13ms/step - loss: 0.0933 - val_loss: 0.0932\n",
            "Epoch 66/100\n",
            "469/469 [==============================] - 6s 13ms/step - loss: 0.0932 - val_loss: 0.0931\n",
            "Epoch 67/100\n",
            "469/469 [==============================] - 6s 13ms/step - loss: 0.0932 - val_loss: 0.0932\n",
            "Epoch 68/100\n",
            "469/469 [==============================] - 6s 13ms/step - loss: 0.0931 - val_loss: 0.0931\n",
            "Epoch 69/100\n",
            "469/469 [==============================] - 6s 13ms/step - loss: 0.0933 - val_loss: 0.0933\n",
            "Epoch 70/100\n",
            "469/469 [==============================] - 6s 13ms/step - loss: 0.0932 - val_loss: 0.0930\n",
            "Epoch 71/100\n",
            "469/469 [==============================] - 6s 13ms/step - loss: 0.0930 - val_loss: 0.0933\n",
            "Epoch 72/100\n",
            "469/469 [==============================] - 6s 13ms/step - loss: 0.0933 - val_loss: 0.0931\n",
            "Epoch 73/100\n",
            "469/469 [==============================] - 6s 13ms/step - loss: 0.0933 - val_loss: 0.0931\n",
            "Epoch 74/100\n",
            "469/469 [==============================] - 6s 13ms/step - loss: 0.0934 - val_loss: 0.0930\n",
            "Epoch 75/100\n",
            "469/469 [==============================] - 6s 13ms/step - loss: 0.0932 - val_loss: 0.0930\n",
            "Epoch 76/100\n",
            "469/469 [==============================] - 6s 13ms/step - loss: 0.0933 - val_loss: 0.0933\n",
            "Epoch 77/100\n",
            "469/469 [==============================] - 6s 13ms/step - loss: 0.0931 - val_loss: 0.0930\n",
            "Epoch 78/100\n",
            "469/469 [==============================] - 6s 13ms/step - loss: 0.0931 - val_loss: 0.0931\n",
            "Epoch 79/100\n",
            "469/469 [==============================] - 6s 13ms/step - loss: 0.0931 - val_loss: 0.0930\n",
            "Epoch 80/100\n",
            "469/469 [==============================] - 6s 13ms/step - loss: 0.0933 - val_loss: 0.0930\n",
            "Epoch 81/100\n",
            "469/469 [==============================] - 6s 13ms/step - loss: 0.0932 - val_loss: 0.0930\n",
            "Epoch 82/100\n",
            "469/469 [==============================] - 6s 13ms/step - loss: 0.0930 - val_loss: 0.0932\n",
            "Epoch 83/100\n",
            "469/469 [==============================] - 6s 13ms/step - loss: 0.0931 - val_loss: 0.0930\n",
            "Epoch 84/100\n",
            "469/469 [==============================] - 6s 13ms/step - loss: 0.0931 - val_loss: 0.0933\n",
            "Epoch 85/100\n",
            "469/469 [==============================] - 6s 13ms/step - loss: 0.0931 - val_loss: 0.0932\n",
            "Epoch 86/100\n",
            "469/469 [==============================] - 6s 13ms/step - loss: 0.0931 - val_loss: 0.0930\n",
            "Epoch 87/100\n",
            "469/469 [==============================] - 6s 13ms/step - loss: 0.0932 - val_loss: 0.0930\n",
            "Epoch 88/100\n",
            "469/469 [==============================] - 6s 13ms/step - loss: 0.0930 - val_loss: 0.0932\n",
            "Epoch 89/100\n",
            "469/469 [==============================] - 6s 13ms/step - loss: 0.0931 - val_loss: 0.0933\n",
            "Epoch 90/100\n",
            "469/469 [==============================] - 6s 13ms/step - loss: 0.0930 - val_loss: 0.0930\n",
            "Epoch 91/100\n",
            "469/469 [==============================] - 6s 13ms/step - loss: 0.0930 - val_loss: 0.0929\n",
            "Epoch 92/100\n",
            "469/469 [==============================] - 6s 13ms/step - loss: 0.0928 - val_loss: 0.0931\n",
            "Epoch 93/100\n",
            "469/469 [==============================] - 6s 13ms/step - loss: 0.0929 - val_loss: 0.0933\n",
            "Epoch 94/100\n",
            "469/469 [==============================] - 6s 13ms/step - loss: 0.0930 - val_loss: 0.0931\n",
            "Epoch 95/100\n",
            "469/469 [==============================] - 6s 13ms/step - loss: 0.0929 - val_loss: 0.0931\n",
            "Epoch 96/100\n",
            "469/469 [==============================] - 6s 13ms/step - loss: 0.0931 - val_loss: 0.0931\n",
            "Epoch 97/100\n",
            "469/469 [==============================] - 6s 13ms/step - loss: 0.0931 - val_loss: 0.0930\n",
            "Epoch 98/100\n",
            "469/469 [==============================] - 6s 13ms/step - loss: 0.0929 - val_loss: 0.0929\n",
            "Epoch 99/100\n",
            "469/469 [==============================] - 6s 13ms/step - loss: 0.0932 - val_loss: 0.0929\n",
            "Epoch 100/100\n",
            "469/469 [==============================] - 6s 13ms/step - loss: 0.0930 - val_loss: 0.0930\n"
          ],
          "name": "stdout"
        },
        {
          "output_type": "execute_result",
          "data": {
            "text/plain": [
              "<tensorflow.python.keras.callbacks.History at 0x7f82f3c9f9d0>"
            ]
          },
          "metadata": {
            "tags": []
          },
          "execution_count": 19
        }
      ]
    }
  ]
}